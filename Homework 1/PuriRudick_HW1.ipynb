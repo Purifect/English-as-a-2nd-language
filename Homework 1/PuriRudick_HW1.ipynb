{
 "cells": [
  {
   "cell_type": "markdown",
   "metadata": {},
   "source": [
    "## Homework 1\n",
    "*Author: Puri Rudick*\n",
    "\n",
    "1.\tInstall Python (if you don’t have it already) and install NLTK.  \n",
    "\n",
    "2.\tFollow the instructions in chapter 1 of Bird-Klein for implementing a “lexical diversity” scoring routine.\n",
    "\n",
    "3.\tGo to http://www.gutenberg.org/ebooks/bookshelf/215  and select texts of different grade levels (e.g., fourth reader, fifth reader et al)\n",
    "Report the lexical diversity score of each. Explain whether the result was surprising.\n",
    "\n",
    "4.\tAlso compare the vocabulary size of the same three texts. Explain whether the result was surprising.  \n",
    "\n",
    "5.\tWrite a paragraph arguing whether vocabulary size and lexical diversity in combination could be a better measure of text difficulty (or reading level) than either measure is by itself.\n"
   ]
  },
  {
   "cell_type": "code",
   "execution_count": 2,
   "metadata": {},
   "outputs": [],
   "source": [
    "import nltk\n",
    "from urllib import request"
   ]
  },
  {
   "cell_type": "code",
   "execution_count": 29,
   "metadata": {},
   "outputs": [],
   "source": [
    "# Read in the txt files\n",
    "books = {\n",
    "    '''The Child's World: Third Reader by Browne, Tate, and Withers''' : 'https://www.gutenberg.org/cache/epub/15170/pg15170.txt',\n",
    "    'Fourth Reader: The Alexandra Readers by Dearness, McIntyre, and Saul' : 'https://www.gutenberg.org/files/51975/51975-0.txt',\n",
    "    'School Reading By Grades: Fifth Year by James Baldwin' : 'https://www.gutenberg.org/files/51000/51000-0.txt',\n",
    "}"
   ]
  },
  {
   "cell_type": "code",
   "execution_count": 35,
   "metadata": {},
   "outputs": [
    {
     "name": "stdout",
     "output_type": "stream",
     "text": [
      "The Child's World: Third Reader by Browne, Tate, and Withers \n",
      "\tVocabulary Size: 89\n",
      "\tLexical Diversity:  0.00041428491630513713\n",
      "Fourth Reader: The Alexandra Readers by Dearness, McIntyre, and Saul \n",
      "\tVocabulary Size: 100\n",
      "\tLexical Diversity:  0.0001870620409965169\n",
      "School Reading By Grades: Fifth Year by James Baldwin \n",
      "\tVocabulary Size: 123\n",
      "\tLexical Diversity:  0.0004523089821944708\n"
     ]
    }
   ],
   "source": [
    "# Lexical_diversity function from nltk book\n",
    "def lexical_diversity(text):\n",
    "    return len(set(text)) / len(text)\n",
    "\n",
    "# Print each book vocabbulary size and lexical diversity\n",
    "for i in books:\n",
    "    response = request.urlopen(books[i])\n",
    "    text = response.read().decode('utf8')\n",
    "    vocab = set(text)\n",
    "    vocab_size = len(vocab)\n",
    "    lexi = lexical_diversity(text)\n",
    "    print(i, '\\n\\tVocabulary Size:', vocab_size)\n",
    "    print('\\tLexical Diversity: ', lexi)"
   ]
  },
  {
   "cell_type": "markdown",
   "metadata": {},
   "source": [
    "### Discussion\n",
    "\n",
    "The 3 books I used in this experiment are for 3rd, 4th, and 5th grade readers.  They are from 3 different authors, also different genes. From the result above I found that the books' vocabulary size increases with grade level; 89 for 3rd grade, 100 for 4th grade, and 123 for 5th grade. In my opinion, this is expeted as older children know more words and an read longer than younger children.\n",
    "\n",
    "The lexical diversity for each book had been analized. The exical diversity measures the number of unique words to the total size of the text. Even though vocabulary is increasing, the mix of unique words does not so the text is not confusing to the student. According to the result above, 5th grade has the higest lexical diversity score at .00045, follows by 3th grade score at .00041, and the least score is from 4th grade at .00019. It seems like even though the vocabulary size increases, the mix of unique words may or may not increase. However, the book for 5th grade still be the most complicated among the three.\n",
    "\n",
    "From this experiment, the higher age with reading level tends to have a higher vocabulary size and a higher lexical diverity."
   ]
  }
 ],
 "metadata": {
  "interpreter": {
   "hash": "48e120922dd8eb9d261b39c8c0044617a1d8fb07c931ac347bc85fe451298055"
  },
  "kernelspec": {
   "display_name": "Python 3.10.4 ('pyri')",
   "language": "python",
   "name": "python3"
  },
  "language_info": {
   "codemirror_mode": {
    "name": "ipython",
    "version": 3
   },
   "file_extension": ".py",
   "mimetype": "text/x-python",
   "name": "python",
   "nbconvert_exporter": "python",
   "pygments_lexer": "ipython3",
   "version": "3.10.4"
  },
  "orig_nbformat": 4
 },
 "nbformat": 4,
 "nbformat_minor": 2
}
