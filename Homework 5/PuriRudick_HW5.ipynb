{
 "cells": [
  {
   "cell_type": "markdown",
   "metadata": {},
   "source": [
    "## Homework 5\n",
    "*Author: Puri Rudick*\n",
    "\n",
    "##### 1. Compile a list of static links (permalinks) to individual user movie reviews from one particular website. This will be your working dataset for this assignment, as well as for assignments 7 and 8.   \n",
    "- It does not matter if you use a crawler or if you manually collect the links, but you will need at least 100 movie review links. Note that, as of this writing, the robots.txt file of IMDB.com allows the crawling of user reviews.\n",
    "- Each link should be to a web page that has only one user review of only one movie, e.g., the user review permalinks on the IMDB site.\n",
    "- Choose reviews of movies that are all in the same genre, e.g., sci-fi, mystery, romance, superhero, etc.  \n",
    "- Make sure your collection includes reviews of several movies in your chosen genre and that it includes a mix of negative and positive reviews.  \n"
   ]
  },
  {
   "cell_type": "code",
   "execution_count": 1,
   "metadata": {},
   "outputs": [],
   "source": [
    "import re\n",
    "import nltk\n",
    "from nltk import pos_tag\n",
    "from nltk.tag import UnigramTagger\n",
    "from nltk.corpus import brown\n",
    "from nltk import word_tokenize"
   ]
  },
  {
   "cell_type": "code",
   "execution_count": 31,
   "metadata": {},
   "outputs": [],
   "source": [
    "import pandas as pd\n",
    "import requests\n",
    "from bs4 import BeautifulSoup\n",
    "import itertools"
   ]
  },
  {
   "cell_type": "code",
   "execution_count": 28,
   "metadata": {},
   "outputs": [],
   "source": [
    "def urlToSoup(url): \n",
    "    response = requests.get(url)\n",
    "    soup = BeautifulSoup(response.text, 'html.parser')\n",
    "    return soup\n",
    "\n",
    "\n",
    "def moviesLink(movieSoup):\n",
    "    movie_tags = movieSoup.find_all('a', attrs={'class': None})\n",
    "    movie_tags = [tag.attrs['href'] for tag in movie_tags \n",
    "                  if tag.attrs['href'].startswith('/title') & tag.attrs['href'].endswith('/')]\n",
    "    # remove duplicate links\n",
    "    movie_tags = list(dict.fromkeys(movie_tags))\n",
    "    return movie_tags\n",
    "\n",
    "def ReviewLinks(movie_tags):\n",
    "    movie_links = [base_url + tag + 'reviews' for tag in movie_tags]\n",
    "    return movie_links"
   ]
  },
  {
   "cell_type": "code",
   "execution_count": 30,
   "metadata": {},
   "outputs": [
    {
     "name": "stdout",
     "output_type": "stream",
     "text": [
      "There are a total of 50 movies display on this web page.\n",
      "First 10 superhero movies, wich released before 2021 from IMDB reviews links:\n"
     ]
    },
    {
     "data": {
      "text/plain": [
       "['https://www.imdb.com/title/tt10872600/reviews',\n",
       " 'https://www.imdb.com/title/tt4154796/reviews',\n",
       " 'https://www.imdb.com/title/tt9032400/reviews',\n",
       " 'https://www.imdb.com/title/tt0468569/reviews',\n",
       " 'https://www.imdb.com/title/tt1477834/reviews',\n",
       " 'https://www.imdb.com/title/tt7097896/reviews',\n",
       " 'https://www.imdb.com/title/tt6334354/reviews',\n",
       " 'https://www.imdb.com/title/tt4154756/reviews',\n",
       " 'https://www.imdb.com/title/tt3501632/reviews',\n",
       " 'https://www.imdb.com/title/tt2015381/reviews']"
      ]
     },
     "execution_count": 30,
     "metadata": {},
     "output_type": "execute_result"
    }
   ],
   "source": [
    "# The url is a IMDB web page. Displaying first 50 movies with the filters of:\n",
    "# Feature Film\n",
    "# Superhero\n",
    "# No more than 2021 Release year or range\n",
    "# Sorted by Popularity\n",
    "\n",
    "url = '''https://www.imdb.com/search/keyword/?keywords=superhero&pf_rd_m=A2FGELUUNOQJNL&pf_rd_p=a581b14c-5a82-4e29-9cf8-54f909ced9e1&pf_rd_r=HP5TEQ42K8KKB6H9G3TM&\n",
    "pf_rd_s=center-5&pf_rd_t=15051&pf_rd_i=genre&ref_=kw_ref_yr&mode=detail&page=1&title_type=movie&sort=moviemeter,asc&release_date=%2C2021'''\n",
    "\n",
    "movies_soup = urlToSoup(url)\n",
    "movie_links = moviesLink(movies_soup)\n",
    "review_links = ReviewLinks(movie_links)\n",
    "\n",
    "print(\"There are a total of \" + str(len(movie_links)) + \" movies display on this web page.\")\n",
    "print(\"First 10 superhero movies, wich released before 2021 from IMDB reviews links:\")\n",
    "review_links[:10]\n"
   ]
  },
  {
   "cell_type": "code",
   "execution_count": 32,
   "metadata": {},
   "outputs": [],
   "source": [
    "# Function that returns the index of negative and positive review.\n",
    "def minMax(a):   \n",
    "    # get the index of least rated user review\n",
    "    minpos = a.index(min(a))\n",
    "    # get the index of highest rated user review\n",
    "    maxpos = a.index(max(a))\n",
    "    return minpos, maxpos\n",
    "\n",
    "# Function returns a negative and positive review for each movie.\n",
    "def getMovieReviews(soup):    \n",
    "    # get a list of user ratings\n",
    "    user_review_ratings = [tag.previous_element for tag in \n",
    "                           soup.find_all('span', attrs={'class': 'point-scale'})]\n",
    "    \n",
    "    # find the index of negative and positive review\n",
    "    n_index, p_index = minMax(list(map(int, user_review_ratings)))\n",
    "    \n",
    "    # get the review tags\n",
    "    user_review_list = soup.find_all('a', attrs={'class':'title'})\n",
    "    \n",
    "    # get the negative and positive review tags\n",
    "    n_review_tag = user_review_list[n_index]\n",
    "    p_review_tag = user_review_list[p_index]\n",
    "    \n",
    "    # return the negative and positive review link\n",
    "    n_review_link = base_url + n_review_tag['href']\n",
    "    p_review_link = base_url + p_review_tag['href']\n",
    "    \n",
    "    return n_review_link, p_review_link"
   ]
  },
  {
   "cell_type": "code",
   "execution_count": 34,
   "metadata": {},
   "outputs": [
    {
     "name": "stdout",
     "output_type": "stream",
     "text": [
      "There are a total of 100 individual movie reviews\n",
      "Displaying 10 reviews\n"
     ]
    },
    {
     "data": {
      "text/plain": [
       "['https://www.imdb.com/review/rw7648266/',\n",
       " 'https://www.imdb.com/review/rw8021381/',\n",
       " 'https://www.imdb.com/review/rw5066919/',\n",
       " 'https://www.imdb.com/review/rw7585695/',\n",
       " 'https://www.imdb.com/review/rw7758165/',\n",
       " 'https://www.imdb.com/review/rw7535063/',\n",
       " 'https://www.imdb.com/review/rw1917099/',\n",
       " 'https://www.imdb.com/review/rw5478826/',\n",
       " 'https://www.imdb.com/review/rw5232016/',\n",
       " 'https://www.imdb.com/review/rw4561489/']"
      ]
     },
     "execution_count": 34,
     "metadata": {},
     "output_type": "execute_result"
    }
   ],
   "source": [
    "# get all movie review links\n",
    "movie_review_list = [getMovieReviews(movie_soup) for movie_soup in movies_soup]\n",
    "\n",
    "movie_review_list = list(itertools.chain(*movie_review_list))\n",
    "\n",
    "# For a check make a listing of the review URLs\n",
    "print(\"There are a total of \" + str(len(movie_review_list)) + \" individual movie reviews\")\n",
    "print(\"Displaying 10 reviews\")\n",
    "movie_review_list[:10]"
   ]
  },
  {
   "cell_type": "code",
   "execution_count": null,
   "metadata": {},
   "outputs": [],
   "source": []
  },
  {
   "cell_type": "code",
   "execution_count": null,
   "metadata": {},
   "outputs": [],
   "source": []
  },
  {
   "cell_type": "code",
   "execution_count": null,
   "metadata": {},
   "outputs": [],
   "source": []
  },
  {
   "cell_type": "code",
   "execution_count": null,
   "metadata": {},
   "outputs": [],
   "source": [
    "def get_review_from_url(url):\n",
    "    html = get_txt(url)\n",
    "    tags = BeautifulSoup(html, 'html.parser', parse_only=SoupStrainer(strain))\n",
    "    review = clean_txt(tags.text)\n",
    "    return review\n",
    "\n",
    "def get_review_from_site(url):\n",
    "    reviews = []\n",
    "\n",
    "    reviews_home_text = get_txt(url)\n",
    "    all_links = get_links_from(reviews_home_text)\n",
    "    links = get_links(all_links)\n",
    "\n",
    "    review_urls = get_review_urls(links)\n",
    "    for url in review_urls:\n",
    "        reviews.append(get_review_from_url(url))\n",
    "    return reviews\n",
    "\n",
    "\n",
    "def get_reviews_from_all_sites(url_list):\n",
    "    all_reviews = []\n",
    "    for review in review_links:\n",
    "        review_url = review_links[review]\n",
    "        all_reviews = all_reviews + get_review_from_site(review_url)\n",
    "    return all_reviews"
   ]
  },
  {
   "cell_type": "code",
   "execution_count": 6,
   "metadata": {},
   "outputs": [
    {
     "name": "stdout",
     "output_type": "stream",
     "text": [
      "There are a total of 50 movie user reviews\n",
      "Displaying 10 user reviews links\n"
     ]
    },
    {
     "data": {
      "text/plain": [
       "['https://www.imdb.com/title/tt10872600/reviews',\n",
       " 'https://www.imdb.com/title/tt4154796/reviews',\n",
       " 'https://www.imdb.com/title/tt9032400/reviews',\n",
       " 'https://www.imdb.com/title/tt0468569/reviews',\n",
       " 'https://www.imdb.com/title/tt1477834/reviews',\n",
       " 'https://www.imdb.com/title/tt7097896/reviews',\n",
       " 'https://www.imdb.com/title/tt6334354/reviews',\n",
       " 'https://www.imdb.com/title/tt4154756/reviews',\n",
       " 'https://www.imdb.com/title/tt3501632/reviews',\n",
       " 'https://www.imdb.com/title/tt2015381/reviews']"
      ]
     },
     "execution_count": 6,
     "metadata": {},
     "output_type": "execute_result"
    }
   ],
   "source": [
    "# function to build the list of movie review links\n",
    "def buildReviewLinks(movie_tags):\n",
    "    movie_links = [base_url + tag + 'reviews' for tag in movie_tags]\n",
    "    return movie_links\n",
    "\n",
    "\n",
    "# build out the list of reviews\n",
    "base_url = \"https://www.imdb.com\"\n",
    "review_links = buildReviewLinks(movie_tags)\n",
    "\n",
    "print(\"There are a total of \" + str(len(review_links)) + \" movie user reviews\")\n",
    "print(\"Displaying 10 user reviews links\")\n",
    "review_links[:10]"
   ]
  },
  {
   "cell_type": "code",
   "execution_count": null,
   "metadata": {},
   "outputs": [],
   "source": []
  },
  {
   "cell_type": "code",
   "execution_count": null,
   "metadata": {},
   "outputs": [],
   "source": []
  },
  {
   "cell_type": "code",
   "execution_count": null,
   "metadata": {},
   "outputs": [],
   "source": []
  },
  {
   "cell_type": "code",
   "execution_count": 2,
   "metadata": {},
   "outputs": [
    {
     "name": "stdout",
     "output_type": "stream",
     "text": [
      "                                                  title  \\\n",
      "0                                      A step backwards   \n",
      "1                          Teenage Spider-Man in Europe   \n",
      "2                            Far better from Homecoming   \n",
      "3                              Spider man Far from home   \n",
      "4     Spidey is back in form with this new and one o...   \n",
      "...                                                 ...   \n",
      "2320                              Last feelings said!!!   \n",
      "2321                        Jake Gyllenhaal? Seriously?   \n",
      "2322                                            Peurile   \n",
      "2323                        It Just killed ironman More   \n",
      "2324      An unfavorable start of the post-Endgame era.   \n",
      "\n",
      "                                                 review  \n",
      "0     And so my long Marvel-watching journey comes t...  \n",
      "1     \"Spider-Man: Far from Home\" is a typical film ...  \n",
      "2     ==Warning if you have not watched Endgame yet ...  \n",
      "3     Spider man far from home\\n2019\\n12A\\ndirector:...  \n",
      "4     This film is even better than Homecoming. It t...  \n",
      "...                                                 ...  \n",
      "2320  Won't Flash Thompson know who spider man is, i...  \n",
      "2321  Marvel.. how could cast Jake Gyllenhaal? HOW C...  \n",
      "2322  Absolute rubbish. Glad I had my phone to stop ...  \n",
      "2323  The movie was good but the main legacy of Tony...  \n",
      "2324  After watching this movie, I writhed and writh...  \n",
      "\n",
      "[2325 rows x 2 columns]\n"
     ]
    }
   ],
   "source": [
    "import pandas as pd\n",
    "import requests\n",
    "from bs4 import BeautifulSoup\n",
    "\n",
    "\n",
    "url = (\n",
    "    \"https://www.imdb.com/title/tt6320628/reviews/_ajax?ref_=undefined&paginationKey={}\"\n",
    ")\n",
    "key = \"\"\n",
    "data = {\"title\": [], \"review\": []}\n",
    "\n",
    "while True:\n",
    "    response = requests.get(url.format(key))\n",
    "    soup = BeautifulSoup(response.content, \"html.parser\")\n",
    "    # Find the pagination key\n",
    "    pagination_key = soup.find(\"div\", class_=\"load-more-data\")\n",
    "    if not pagination_key:\n",
    "        break\n",
    "\n",
    "    # Update the `key` variable in-order to scrape more reviews\n",
    "    key = pagination_key[\"data-key\"]\n",
    "    for title, review in zip(\n",
    "        soup.find_all(class_=\"title\"), soup.find_all(class_=\"text show-more__control\")\n",
    "    ):\n",
    "        data[\"title\"].append(title.get_text(strip=True))\n",
    "        data[\"review\"].append(review.get_text())\n",
    "\n",
    "df = pd.DataFrame(data)\n",
    "print(df)\n"
   ]
  },
  {
   "cell_type": "code",
   "execution_count": null,
   "metadata": {},
   "outputs": [],
   "source": []
  },
  {
   "cell_type": "markdown",
   "metadata": {},
   "source": [
    "---\n",
    "##### 2. Extract noun phrase (NP) chunks from your reviews using the following procedure:\n",
    "- In Python, use BeautifulSoup to grab the main review text from each link.  \n",
    "- Next run each review text through a tokenizer, and then try to NP-chunk it with a shallow parser. \n",
    "- You probably will have too many unknown words, owing to proper names of characters, actors, and so on that are not in your working dictionary. Make sure the main names that are relevant to the movies in your collection of reviews are added to the working lexicon, and then run the NP chunker again.\n"
   ]
  },
  {
   "cell_type": "markdown",
   "metadata": {},
   "source": [
    "---\n",
    "##### 3. Output all the chunks in a single list for each review, and submit that output for this assignment. Also submit a brief written summary of what you did (describe your selection of genre, your source of reviews, how many you collected, and by what means).\n"
   ]
  },
  {
   "cell_type": "markdown",
   "metadata": {},
   "source": [
    "My news sentence is from this [link](https://www.nbcnews.com/tech/internet/internet-explorers-run-finally-comes-end-rcna33628 \"Title\"). It talks about how Microsoft Edge will completely replace Internet Explorer.\n",
    "\n",
    "My manual tagging will be:\n",
    "'As':IN, 'of':IN, 'Wednesday':NNP, 'Microsoft':NNP, 'will':MD, 'no':RB, 'longer':RBR, 'support':VB, 'the':DT, 'once':RB, 'dominant':JJ 'browser':NN, 'that':WDT, 'legions':NNS, 'of':IN, 'web':NN, 'surfers':NNS, 'loved':VBD, 'to':TO, 'hate':VB, 'and':CC, 'a':DT, 'few':JJ, 'still':RB, 'claim':VBP, 'to':TO, 'adore':VB\n",
    "\n",
    "The pos_tag and spaCy taggers did a good job for tagging this sentence. The results from both are relatively the same as what I, a human, tagged. The UnigramTagger did a poor job on this sentence. As you can see that some words like 'Microsoft', 'browser', and 'surfers' do not get any tags. I'm not sure if these words are considered as quite new words since they started to be used after internet has become popular."
   ]
  }
 ],
 "metadata": {
  "kernelspec": {
   "display_name": "Python 3.10.4 ('pyri')",
   "language": "python",
   "name": "python3"
  },
  "language_info": {
   "codemirror_mode": {
    "name": "ipython",
    "version": 3
   },
   "file_extension": ".py",
   "mimetype": "text/x-python",
   "name": "python",
   "nbconvert_exporter": "python",
   "pygments_lexer": "ipython3",
   "version": "3.10.4"
  },
  "orig_nbformat": 4,
  "vscode": {
   "interpreter": {
    "hash": "48e120922dd8eb9d261b39c8c0044617a1d8fb07c931ac347bc85fe451298055"
   }
  }
 },
 "nbformat": 4,
 "nbformat_minor": 2
}
